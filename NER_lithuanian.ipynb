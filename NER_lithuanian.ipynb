{
 "cells": [
  {
   "cell_type": "code",
   "execution_count": 2,
   "metadata": {},
   "outputs": [],
   "source": [
    "import sys, re\n",
    "import xml.etree.ElementTree as ET"
   ]
  },
  {
   "cell_type": "code",
   "execution_count": null,
   "metadata": {},
   "outputs": [],
   "source": [
    "def guess_prop_cats(t, s): \n",
    "    cats = []\n",
    "    for c in s: \n",
    "        if c.count('Sostinė') > 0: cats.append('LOC') # столица\n",
    "        if c.count('Miestas') > 0: cats.append('LOC') # города\n",
    "        if c.count('miestai') > 0: cats.append('LOC') # города\n",
    "        if c.count('Žmonės') > 0: cats.append('PER') # люди\n",
    "        if c.count('Šalys') > 0: cats.append('LOC') # страны\n",
    "        if c.count('šalys') > 0: cats.append('LOC') # страны\n",
    "        if c.count('provincijos') > 0: cats.append('LOC') # провинции\n",
    "        if c.count('Kaimai') > 0: cats.append('LOC') # деревни\n",
    "        if t.split(' ')[-1] == 'provincijos': cats.append('LOC')  # провинции\n",
    "        if t.split(' ')[-1] == 'provincijos)': cats.append('LOC')  # провинции\n",
    "        return list(set(cats))\n",
    "    \n",
    "doc = ET.parse('ltwiki-20171220-pages-articles-multistream.xml')\n",
    "ns = {'mediawiki': 'http://www.mediawiki.org/xml/export-0.10/'}\n",
    "cats = re.compile('(\\[\\[Kategorija:[^|\\]]+\\]\\]|\\[\\[Category:[^|\\]]+\\]\\])')\n",
    "\n",
    "# For each of the pages\n",
    "for p in doc.findall('.//mediawiki:page', ns): \n",
    "    # Find the title\n",
    "    t = p.findall('.//mediawiki:title', ns)[0].text\n",
    "\n",
    "    # If the title is outside the main namespace\n",
    "    if t.count(':') > 0: continue\n",
    "    # If the title only consists of numerals\n",
    "    if re.match('^[0-9]+$', t): continue;\t\n",
    "\n",
    "    # Pull out the text\n",
    "    tekst = str(p.findall('.//mediawiki:text', ns)[0].text)\n",
    "\n",
    "    # Find all the categories\n",
    "    incat = cats.findall(tekst)\n",
    "    # Classify the categories into named-entities\n",
    "    pars = guess_prop_cats(t, incat)\n",
    "    if pars != []:\n",
    "        print(t + '\\t' + '/'.join(pars) + '\\t' + '/'.join(incat))"
   ]
  },
  {
   "cell_type": "code",
   "execution_count": null,
   "metadata": {
    "collapsed": true
   },
   "outputs": [],
   "source": []
  }
 ],
 "metadata": {
  "kernelspec": {
   "display_name": "Python 3",
   "language": "python",
   "name": "python3"
  },
  "language_info": {
   "codemirror_mode": {
    "name": "ipython",
    "version": 3
   },
   "file_extension": ".py",
   "mimetype": "text/x-python",
   "name": "python",
   "nbconvert_exporter": "python",
   "pygments_lexer": "ipython3",
   "version": "3.6.3"
  }
 },
 "nbformat": 4,
 "nbformat_minor": 2
}
